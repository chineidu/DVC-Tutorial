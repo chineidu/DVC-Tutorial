{
 "cells": [
  {
   "cell_type": "code",
   "execution_count": 1,
   "metadata": {},
   "outputs": [],
   "source": [
    "import numpy as np\n",
    "import pandas as pd\n",
    "import matplotlib.pyplot as plt\n",
    "\n",
    "import warnings\n",
    "\n",
    "warnings.filterwarnings(\"ignore\")\n",
    "\n",
    "from feature_engine.transformation import YeoJohnsonTransformer\n",
    "from feature_engine.imputation import MeanMedianImputer\n",
    "from feature_engine.imputation import CategoricalImputer\n",
    "from feature_engine.encoding import OrdinalEncoder\n",
    "from feature_engine.encoding import RareLabelEncoder\n",
    "from feature_engine.selection import DropFeatures\n",
    "\n",
    "from sklearn.model_selection import train_test_split\n",
    "from sklearn.preprocessing import StandardScaler\n",
    "from sklearn.pipeline import Pipeline\n",
    "\n",
    "# Built-in library\n",
    "import itertools\n",
    "import re\n",
    "import json\n",
    "import logging\n",
    "import typing as tp\n",
    "\n",
    "\n",
    "# pandas settings\n",
    "pd.options.display.max_rows = 1_000\n",
    "pd.options.display.max_columns = 1_000\n",
    "pd.options.display.max_colwidth = 600\n",
    "\n",
    "# Black code formatter (Optional)\n",
    "%load_ext lab_black\n",
    "# auto reload imports\n",
    "%load_ext autoreload\n",
    "%autoreload 2"
   ]
  },
  {
   "cell_type": "code",
   "execution_count": 2,
   "metadata": {},
   "outputs": [],
   "source": [
    "# Helper Functions\n",
    "\n",
    "\n",
    "def set_up_logger(delim: str = \"::\") -> tp.Any:\n",
    "    \"\"\"This is used to create a basic logger.\"\"\"\n",
    "    format_ = f\"[%(levelname)s] {delim} %(asctime)s {delim} %(message)s\"\n",
    "    logging.basicConfig(level=logging.INFO, format=format_)\n",
    "    logger = logging.getLogger(__name__)\n",
    "    return logger\n",
    "\n",
    "\n",
    "def load_data(*, filepath: str) -> pd.DataFrame:\n",
    "    \"\"\"This is used to load data as a dataframe.\n",
    "\n",
    "    Params:\n",
    "        filepath (str): The filepath of the input data.\n",
    "\n",
    "    Returns:\n",
    "        df (pd.Dataframe): A DF containing the input data.\n",
    "    \"\"\"\n",
    "    df = pd.read_csv(filepath)\n",
    "    logger.info(f\"Shape of df: {df.shape}\\n\")\n",
    "    return df"
   ]
  },
  {
   "cell_type": "code",
   "execution_count": 3,
   "metadata": {},
   "outputs": [
    {
     "name": "stderr",
     "output_type": "stream",
     "text": [
      "[INFO] :: 2023-01-14 14:15:05,638 :: Shape of df: (891, 12)\n",
      "\n"
     ]
    },
    {
     "data": {
      "text/html": [
       "<div>\n",
       "<style scoped>\n",
       "    .dataframe tbody tr th:only-of-type {\n",
       "        vertical-align: middle;\n",
       "    }\n",
       "\n",
       "    .dataframe tbody tr th {\n",
       "        vertical-align: top;\n",
       "    }\n",
       "\n",
       "    .dataframe thead th {\n",
       "        text-align: right;\n",
       "    }\n",
       "</style>\n",
       "<table border=\"1\" class=\"dataframe\">\n",
       "  <thead>\n",
       "    <tr style=\"text-align: right;\">\n",
       "      <th></th>\n",
       "      <th>PassengerId</th>\n",
       "      <th>Survived</th>\n",
       "      <th>Pclass</th>\n",
       "      <th>Name</th>\n",
       "      <th>Sex</th>\n",
       "      <th>Age</th>\n",
       "      <th>SibSp</th>\n",
       "      <th>Parch</th>\n",
       "      <th>Ticket</th>\n",
       "      <th>Fare</th>\n",
       "      <th>Cabin</th>\n",
       "      <th>Embarked</th>\n",
       "    </tr>\n",
       "  </thead>\n",
       "  <tbody>\n",
       "    <tr>\n",
       "      <th>0</th>\n",
       "      <td>1</td>\n",
       "      <td>0</td>\n",
       "      <td>3</td>\n",
       "      <td>Braund, Mr. Owen Harris</td>\n",
       "      <td>male</td>\n",
       "      <td>22.0</td>\n",
       "      <td>1</td>\n",
       "      <td>0</td>\n",
       "      <td>A/5 21171</td>\n",
       "      <td>7.2500</td>\n",
       "      <td>NaN</td>\n",
       "      <td>S</td>\n",
       "    </tr>\n",
       "    <tr>\n",
       "      <th>1</th>\n",
       "      <td>2</td>\n",
       "      <td>1</td>\n",
       "      <td>1</td>\n",
       "      <td>Cumings, Mrs. John Bradley (Florence Briggs Thayer)</td>\n",
       "      <td>female</td>\n",
       "      <td>38.0</td>\n",
       "      <td>1</td>\n",
       "      <td>0</td>\n",
       "      <td>PC 17599</td>\n",
       "      <td>71.2833</td>\n",
       "      <td>C85</td>\n",
       "      <td>C</td>\n",
       "    </tr>\n",
       "    <tr>\n",
       "      <th>2</th>\n",
       "      <td>3</td>\n",
       "      <td>1</td>\n",
       "      <td>3</td>\n",
       "      <td>Heikkinen, Miss. Laina</td>\n",
       "      <td>female</td>\n",
       "      <td>26.0</td>\n",
       "      <td>0</td>\n",
       "      <td>0</td>\n",
       "      <td>STON/O2. 3101282</td>\n",
       "      <td>7.9250</td>\n",
       "      <td>NaN</td>\n",
       "      <td>S</td>\n",
       "    </tr>\n",
       "    <tr>\n",
       "      <th>3</th>\n",
       "      <td>4</td>\n",
       "      <td>1</td>\n",
       "      <td>1</td>\n",
       "      <td>Futrelle, Mrs. Jacques Heath (Lily May Peel)</td>\n",
       "      <td>female</td>\n",
       "      <td>35.0</td>\n",
       "      <td>1</td>\n",
       "      <td>0</td>\n",
       "      <td>113803</td>\n",
       "      <td>53.1000</td>\n",
       "      <td>C123</td>\n",
       "      <td>S</td>\n",
       "    </tr>\n",
       "    <tr>\n",
       "      <th>4</th>\n",
       "      <td>5</td>\n",
       "      <td>0</td>\n",
       "      <td>3</td>\n",
       "      <td>Allen, Mr. William Henry</td>\n",
       "      <td>male</td>\n",
       "      <td>35.0</td>\n",
       "      <td>0</td>\n",
       "      <td>0</td>\n",
       "      <td>373450</td>\n",
       "      <td>8.0500</td>\n",
       "      <td>NaN</td>\n",
       "      <td>S</td>\n",
       "    </tr>\n",
       "  </tbody>\n",
       "</table>\n",
       "</div>"
      ],
      "text/plain": [
       "   PassengerId  Survived  Pclass  \\\n",
       "0            1         0       3   \n",
       "1            2         1       1   \n",
       "2            3         1       3   \n",
       "3            4         1       1   \n",
       "4            5         0       3   \n",
       "\n",
       "                                                  Name     Sex   Age  SibSp  \\\n",
       "0                              Braund, Mr. Owen Harris    male  22.0      1   \n",
       "1  Cumings, Mrs. John Bradley (Florence Briggs Thayer)  female  38.0      1   \n",
       "2                               Heikkinen, Miss. Laina  female  26.0      0   \n",
       "3         Futrelle, Mrs. Jacques Heath (Lily May Peel)  female  35.0      1   \n",
       "4                             Allen, Mr. William Henry    male  35.0      0   \n",
       "\n",
       "   Parch            Ticket     Fare Cabin Embarked  \n",
       "0      0         A/5 21171   7.2500   NaN        S  \n",
       "1      0          PC 17599  71.2833   C85        C  \n",
       "2      0  STON/O2. 3101282   7.9250   NaN        S  \n",
       "3      0            113803  53.1000  C123        S  \n",
       "4      0            373450   8.0500   NaN        S  "
      ]
     },
     "execution_count": 3,
     "metadata": {},
     "output_type": "execute_result"
    }
   ],
   "source": [
    "logger = set_up_logger()\n",
    "\n",
    "# Load data\n",
    "df = load_data(filepath=\"../data/titanic_train.csv\")\n",
    "\n",
    "df.head()"
   ]
  },
  {
   "cell_type": "code",
   "execution_count": 4,
   "metadata": {},
   "outputs": [
    {
     "data": {
      "text/plain": [
       "((801, 11), (90, 11))"
      ]
     },
     "execution_count": 4,
     "metadata": {},
     "output_type": "execute_result"
    }
   ],
   "source": [
    "# Split the data into train and test sets\n",
    "target = \"Survived\"\n",
    "test_size = 0.1\n",
    "random_state = 123\n",
    "\n",
    "\n",
    "X = df.drop(columns=[target])\n",
    "y = df[target]\n",
    "\n",
    "X_train, X_test, y_train, y_test = train_test_split(\n",
    "    X, y, test_size=test_size, random_state=random_state\n",
    ")\n",
    "\n",
    "X_train.shape, X_test.shape"
   ]
  },
  {
   "cell_type": "code",
   "execution_count": 5,
   "metadata": {},
   "outputs": [
    {
     "data": {
      "text/plain": [
       "(['PassengerId', 'Pclass', 'Age', 'SibSp', 'Parch', 'Fare'],\n",
       " ['Name', 'Sex', 'Ticket', 'Cabin', 'Embarked'])"
      ]
     },
     "execution_count": 5,
     "metadata": {},
     "output_type": "execute_result"
    }
   ],
   "source": [
    "# Split the data into numerical and categorical variables\n",
    "num_vars = [*X_train.select_dtypes(exclude=\"O\").columns]\n",
    "cat_vars = [*X_train.select_dtypes(exclude=[\"int\", \"float\"]).columns]\n",
    "\n",
    "num_vars, cat_vars"
   ]
  },
  {
   "attachments": {},
   "cell_type": "markdown",
   "metadata": {},
   "source": [
    "### Numerical Variables"
   ]
  },
  {
   "cell_type": "code",
   "execution_count": 6,
   "metadata": {},
   "outputs": [
    {
     "data": {
      "text/plain": [
       "Age    20.099875\n",
       "dtype: float64"
      ]
     },
     "execution_count": 6,
     "metadata": {},
     "output_type": "execute_result"
    }
   ],
   "source": [
    "# Check for missing values\n",
    "num_vars_wf_na = [var for var in num_vars if X_train[var].isna().sum() > 0]\n",
    "\n",
    "# Percentage of missing values\n",
    "X_train[num_vars_wf_na].isna().mean().mul(100)"
   ]
  },
  {
   "cell_type": "code",
   "execution_count": 7,
   "metadata": {},
   "outputs": [
    {
     "data": {
      "image/png": "[encoded data removed]",
      "text/plain": [
       "<Figure size 640x480 with 1 Axes>"
      ]
     },
     "metadata": {},
     "output_type": "display_data"
    }
   ],
   "source": [
    "X_train[\"Age\"].plot(kind=\"hist\")\n",
    "plt.title(\"Distribution of Age\")\n",
    "\n",
    "plt.tight_layout()\n",
    "plt.show()"
   ]
  },
  {
   "cell_type": "code",
   "execution_count": 8,
   "metadata": {},
   "outputs": [
    {
     "data": {
      "text/html": [
       "<div>\n",
       "<style scoped>\n",
       "    .dataframe tbody tr th:only-of-type {\n",
       "        vertical-align: middle;\n",
       "    }\n",
       "\n",
       "    .dataframe tbody tr th {\n",
       "        vertical-align: top;\n",
       "    }\n",
       "\n",
       "    .dataframe thead th {\n",
       "        text-align: right;\n",
       "    }\n",
       "</style>\n",
       "<table border=\"1\" class=\"dataframe\">\n",
       "  <thead>\n",
       "    <tr style=\"text-align: right;\">\n",
       "      <th></th>\n",
       "      <th>PassengerId</th>\n",
       "      <th>Pclass</th>\n",
       "      <th>Age</th>\n",
       "      <th>SibSp</th>\n",
       "      <th>Parch</th>\n",
       "      <th>Fare</th>\n",
       "    </tr>\n",
       "  </thead>\n",
       "  <tbody>\n",
       "    <tr>\n",
       "      <th>count</th>\n",
       "      <td>801.000000</td>\n",
       "      <td>801.000000</td>\n",
       "      <td>640.000000</td>\n",
       "      <td>801.000000</td>\n",
       "      <td>801.000000</td>\n",
       "      <td>801.000000</td>\n",
       "    </tr>\n",
       "    <tr>\n",
       "      <th>mean</th>\n",
       "      <td>449.387016</td>\n",
       "      <td>2.309613</td>\n",
       "      <td>29.885812</td>\n",
       "      <td>0.505618</td>\n",
       "      <td>0.375780</td>\n",
       "      <td>32.165636</td>\n",
       "    </tr>\n",
       "    <tr>\n",
       "      <th>std</th>\n",
       "      <td>257.392366</td>\n",
       "      <td>0.834578</td>\n",
       "      <td>14.386277</td>\n",
       "      <td>1.098991</td>\n",
       "      <td>0.799914</td>\n",
       "      <td>50.871077</td>\n",
       "    </tr>\n",
       "    <tr>\n",
       "      <th>min</th>\n",
       "      <td>1.000000</td>\n",
       "      <td>1.000000</td>\n",
       "      <td>0.420000</td>\n",
       "      <td>0.000000</td>\n",
       "      <td>0.000000</td>\n",
       "      <td>0.000000</td>\n",
       "    </tr>\n",
       "    <tr>\n",
       "      <th>25%</th>\n",
       "      <td>229.000000</td>\n",
       "      <td>2.000000</td>\n",
       "      <td>21.000000</td>\n",
       "      <td>0.000000</td>\n",
       "      <td>0.000000</td>\n",
       "      <td>7.895800</td>\n",
       "    </tr>\n",
       "    <tr>\n",
       "      <th>50%</th>\n",
       "      <td>451.000000</td>\n",
       "      <td>3.000000</td>\n",
       "      <td>28.250000</td>\n",
       "      <td>0.000000</td>\n",
       "      <td>0.000000</td>\n",
       "      <td>13.862500</td>\n",
       "    </tr>\n",
       "    <tr>\n",
       "      <th>75%</th>\n",
       "      <td>669.000000</td>\n",
       "      <td>3.000000</td>\n",
       "      <td>38.000000</td>\n",
       "      <td>1.000000</td>\n",
       "      <td>0.000000</td>\n",
       "      <td>30.500000</td>\n",
       "    </tr>\n",
       "    <tr>\n",
       "      <th>max</th>\n",
       "      <td>891.000000</td>\n",
       "      <td>3.000000</td>\n",
       "      <td>80.000000</td>\n",
       "      <td>8.000000</td>\n",
       "      <td>6.000000</td>\n",
       "      <td>512.329200</td>\n",
       "    </tr>\n",
       "  </tbody>\n",
       "</table>\n",
       "</div>"
      ],
      "text/plain": [
       "       PassengerId      Pclass         Age       SibSp       Parch        Fare\n",
       "count   801.000000  801.000000  640.000000  801.000000  801.000000  801.000000\n",
       "mean    449.387016    2.309613   29.885812    0.505618    0.375780   32.165636\n",
       "std     257.392366    0.834578   14.386277    1.098991    0.799914   50.871077\n",
       "min       1.000000    1.000000    0.420000    0.000000    0.000000    0.000000\n",
       "25%     229.000000    2.000000   21.000000    0.000000    0.000000    7.895800\n",
       "50%     451.000000    3.000000   28.250000    0.000000    0.000000   13.862500\n",
       "75%     669.000000    3.000000   38.000000    1.000000    0.000000   30.500000\n",
       "max     891.000000    3.000000   80.000000    8.000000    6.000000  512.329200"
      ]
     },
     "execution_count": 8,
     "metadata": {},
     "output_type": "execute_result"
    }
   ],
   "source": [
    "X_train[num_vars].describe()"
   ]
  },
  {
   "cell_type": "code",
   "execution_count": 9,
   "metadata": {},
   "outputs": [
    {
     "data": {
      "text/plain": [
       "(Age    0.0\n",
       " dtype: float64,\n",
       " Age    0.0\n",
       " dtype: float64)"
      ]
     },
     "execution_count": 9,
     "metadata": {},
     "output_type": "execute_result"
    }
   ],
   "source": [
    "# Replace the missing values in numerical variables\n",
    "mean_imputer = MeanMedianImputer(imputation_method=\"median\", variables=num_vars_wf_na)\n",
    "X_train = mean_imputer.fit_transform(X_train)\n",
    "X_test = mean_imputer.transform(X_test)\n",
    "\n",
    "# Verify\n",
    "X_train[num_vars_wf_na].isna().mean().mul(100), X_test[\n",
    "    num_vars_wf_na\n",
    "].isna().mean().mul(100)"
   ]
  },
  {
   "cell_type": "code",
   "execution_count": 10,
   "metadata": {},
   "outputs": [
    {
     "name": "stdout",
     "output_type": "stream",
     "text": [
      "PassengerId: 801 unique values\n",
      "Pclass: 3 unique values\n",
      "Age: 87 unique values\n",
      "SibSp: 7 unique values\n",
      "Parch: 7 unique values\n",
      "Fare: 238 unique values\n"
     ]
    }
   ],
   "source": [
    "# Check Cardinality\n",
    "for var in num_vars:\n",
    "    uniq_vals = X_train[var].nunique()\n",
    "    print(f\"{var}: {uniq_vals} unique values\")"
   ]
  },
  {
   "cell_type": "code",
   "execution_count": 11,
   "metadata": {},
   "outputs": [
    {
     "data": {
      "text/plain": [
       "(['Age', 'Fare', 'PassengerId'], ['Pclass', 'SibSp', 'Parch'])"
      ]
     },
     "execution_count": 11,
     "metadata": {},
     "output_type": "execute_result"
    }
   ],
   "source": [
    "# Determine the discrete variables\n",
    "thresh = 20\n",
    "discrete_vars = [var for var in num_vars if X_train[var].nunique() < thresh]\n",
    "\n",
    "num_vars = [*set(num_vars).difference(set(discrete_vars))]\n",
    "\n",
    "num_vars, discrete_vars"
   ]
  },
  {
   "cell_type": "code",
   "execution_count": 12,
   "metadata": {},
   "outputs": [
    {
     "name": "stdout",
     "output_type": "stream",
     "text": [
      "Pclass: \n",
      "3    55.056180\n",
      "1    24.094881\n",
      "2    20.848939\n",
      "Name: Pclass, dtype: float64 unique values\n",
      "\n",
      "SibSp: \n",
      "0    69.163546\n",
      "1    22.971286\n",
      "2     2.996255\n",
      "3     1.872659\n",
      "4     1.622971\n",
      "8     0.873908\n",
      "5     0.499376\n",
      "Name: SibSp, dtype: float64 unique values\n",
      "\n",
      "Parch: \n",
      "0    76.279650\n",
      "1    13.358302\n",
      "2     8.739076\n",
      "5     0.624220\n",
      "3     0.624220\n",
      "4     0.249688\n",
      "6     0.124844\n",
      "Name: Parch, dtype: float64 unique values\n",
      "\n"
     ]
    }
   ],
   "source": [
    "# Cast to categorical\n",
    "X_train[discrete_vars] = X_train[discrete_vars].astype(str)\n",
    "X_test[discrete_vars] = X_test[discrete_vars].astype(str)\n",
    "\n",
    "\n",
    "# Check for `rare` labels\n",
    "for var in discrete_vars:\n",
    "    labels = X_train[var].value_counts(normalize=True).mul(100)\n",
    "    print(f\"{var}: \\n{labels} unique values\\n\")"
   ]
  },
  {
   "cell_type": "code",
   "execution_count": 13,
   "metadata": {},
   "outputs": [
    {
     "data": {
      "text/plain": [
       "{'Pclass': {'3': 55.0561797752809,\n",
       "  '1': 24.094881398252184,\n",
       "  '2': 20.848938826466917},\n",
       " 'SibSp': {'0': 69.16354556803995,\n",
       "  '1': 22.971285892634207,\n",
       "  'Rare': 7.865168539325842},\n",
       " 'Parch': {'0': 76.2796504369538,\n",
       "  '1': 13.358302122347066,\n",
       "  '2': 8.739076154806492,\n",
       "  'Rare': 1.6229712858926344}}"
      ]
     },
     "execution_count": 13,
     "metadata": {},
     "output_type": "execute_result"
    }
   ],
   "source": [
    "# Encode Rare Labels\n",
    "rare_label_enc = RareLabelEncoder(tol=0.05, n_categories=5, variables=discrete_vars)\n",
    "X_train = rare_label_enc.fit_transform(X_train)\n",
    "X_test = rare_label_enc.transform(X_test)\n",
    "\n",
    "# Check for `rare` labels\n",
    "result = {}\n",
    "for var in discrete_vars:\n",
    "    labels = X_train[var].value_counts(normalize=True).mul(100)\n",
    "    result[var] = labels.to_dict()\n",
    "\n",
    "result"
   ]
  },
  {
   "cell_type": "code",
   "execution_count": 14,
   "metadata": {},
   "outputs": [
    {
     "data": {
      "text/plain": [
       "{'Pclass': {'3': 55.55555555555556,\n",
       "  '1': 25.555555555555554,\n",
       "  '2': 18.88888888888889},\n",
       " 'SibSp': {'0': 60.0, '1': 27.77777777777778, 'Rare': 12.222222222222221},\n",
       " 'Parch': {'0': 74.44444444444444,\n",
       "  '1': 12.222222222222221,\n",
       "  '2': 11.11111111111111,\n",
       "  'Rare': 2.2222222222222223}}"
      ]
     },
     "execution_count": 14,
     "metadata": {},
     "output_type": "execute_result"
    }
   ],
   "source": [
    "result = {}\n",
    "for var in discrete_vars:\n",
    "    labels = X_test[var].value_counts(normalize=True).mul(100)\n",
    "    result[var] = labels.to_dict()\n",
    "\n",
    "result"
   ]
  },
  {
   "cell_type": "code",
   "execution_count": 15,
   "metadata": {},
   "outputs": [
    {
     "data": {
      "text/html": [
       "<div>\n",
       "<style scoped>\n",
       "    .dataframe tbody tr th:only-of-type {\n",
       "        vertical-align: middle;\n",
       "    }\n",
       "\n",
       "    .dataframe tbody tr th {\n",
       "        vertical-align: top;\n",
       "    }\n",
       "\n",
       "    .dataframe thead th {\n",
       "        text-align: right;\n",
       "    }\n",
       "</style>\n",
       "<table border=\"1\" class=\"dataframe\">\n",
       "  <thead>\n",
       "    <tr style=\"text-align: right;\">\n",
       "      <th></th>\n",
       "      <th>PassengerId</th>\n",
       "      <th>Pclass</th>\n",
       "      <th>Name</th>\n",
       "      <th>Sex</th>\n",
       "      <th>Age</th>\n",
       "      <th>SibSp</th>\n",
       "      <th>Parch</th>\n",
       "      <th>Ticket</th>\n",
       "      <th>Fare</th>\n",
       "      <th>Cabin</th>\n",
       "      <th>Embarked</th>\n",
       "    </tr>\n",
       "  </thead>\n",
       "  <tbody>\n",
       "    <tr>\n",
       "      <th>677</th>\n",
       "      <td>154.591662</td>\n",
       "      <td>3</td>\n",
       "      <td>Turja, Miss. Anna Sofia</td>\n",
       "      <td>female</td>\n",
       "      <td>11.675611</td>\n",
       "      <td>0</td>\n",
       "      <td>0</td>\n",
       "      <td>4138</td>\n",
       "      <td>2.137198</td>\n",
       "      <td>NaN</td>\n",
       "      <td>S</td>\n",
       "    </tr>\n",
       "    <tr>\n",
       "      <th>547</th>\n",
       "      <td>132.316212</td>\n",
       "      <td>2</td>\n",
       "      <td>Padro y Manent, Mr. Julian</td>\n",
       "      <td>male</td>\n",
       "      <td>16.925884</td>\n",
       "      <td>0</td>\n",
       "      <td>0</td>\n",
       "      <td>SC/PARIS 2146</td>\n",
       "      <td>2.386117</td>\n",
       "      <td>NaN</td>\n",
       "      <td>C</td>\n",
       "    </tr>\n",
       "    <tr>\n",
       "      <th>317</th>\n",
       "      <td>88.808206</td>\n",
       "      <td>2</td>\n",
       "      <td>Moraweck, Dr. Ernest</td>\n",
       "      <td>male</td>\n",
       "      <td>28.678869</td>\n",
       "      <td>0</td>\n",
       "      <td>0</td>\n",
       "      <td>29011</td>\n",
       "      <td>2.393275</td>\n",
       "      <td>NaN</td>\n",
       "      <td>S</td>\n",
       "    </tr>\n",
       "  </tbody>\n",
       "</table>\n",
       "</div>"
      ],
      "text/plain": [
       "     PassengerId Pclass                        Name     Sex        Age SibSp  \\\n",
       "677   154.591662      3     Turja, Miss. Anna Sofia  female  11.675611     0   \n",
       "547   132.316212      2  Padro y Manent, Mr. Julian    male  16.925884     0   \n",
       "317    88.808206      2        Moraweck, Dr. Ernest    male  28.678869     0   \n",
       "\n",
       "    Parch         Ticket      Fare Cabin Embarked  \n",
       "677     0           4138  2.137198   NaN        S  \n",
       "547     0  SC/PARIS 2146  2.386117   NaN        C  \n",
       "317     0          29011  2.393275   NaN        S  "
      ]
     },
     "execution_count": 15,
     "metadata": {},
     "output_type": "execute_result"
    }
   ],
   "source": [
    "# Scale the variables\n",
    "yea_johnson_transf = YeoJohnsonTransformer(variables=num_vars)\n",
    "X_train = yea_johnson_transf.fit_transform(X_train)\n",
    "X_test = yea_johnson_transf.transform(X_test)\n",
    "\n",
    "X_train.head(3)"
   ]
  },
  {
   "attachments": {},
   "cell_type": "markdown",
   "metadata": {},
   "source": [
    "### Categorical Variables"
   ]
  },
  {
   "cell_type": "code",
   "execution_count": 16,
   "metadata": {},
   "outputs": [
    {
     "data": {
      "text/plain": [
       "Cabin       77.278402\n",
       "Embarked     0.249688\n",
       "dtype: float64"
      ]
     },
     "execution_count": 16,
     "metadata": {},
     "output_type": "execute_result"
    }
   ],
   "source": [
    "# Check for missing values\n",
    "cat_vars_wf_na = [var for var in cat_vars if X_train[var].isna().sum() > 0]\n",
    "\n",
    "# Percentage of missing values\n",
    "X_train[cat_vars_wf_na].isna().mean().mul(100)"
   ]
  },
  {
   "cell_type": "code",
   "execution_count": 17,
   "metadata": {},
   "outputs": [
    {
     "data": {
      "text/plain": [
       "(Index(['PassengerId', 'Pclass', 'Sex', 'Age', 'SibSp', 'Parch', 'Fare',\n",
       "        'Embarked'],\n",
       "       dtype='object'),\n",
       " Index(['PassengerId', 'Pclass', 'Sex', 'Age', 'SibSp', 'Parch', 'Fare',\n",
       "        'Embarked'],\n",
       "       dtype='object'))"
      ]
     },
     "execution_count": 17,
     "metadata": {},
     "output_type": "execute_result"
    }
   ],
   "source": [
    "# Drop variable(s)\n",
    "features_to_drop = [\"Cabin\", \"Name\", \"Ticket\"]\n",
    "drop_feats = DropFeatures(features_to_drop=features_to_drop)\n",
    "\n",
    "X_train = drop_feats.fit_transform(X_train)\n",
    "X_test = drop_feats.transform(X_test)\n",
    "\n",
    "X_train.columns, X_test.columns"
   ]
  },
  {
   "cell_type": "code",
   "execution_count": 18,
   "metadata": {},
   "outputs": [
    {
     "data": {
      "text/plain": [
       "['Name', 'Sex', 'Ticket', 'Cabin', 'Embarked']"
      ]
     },
     "execution_count": 18,
     "metadata": {},
     "output_type": "execute_result"
    }
   ],
   "source": [
    "cat_vars"
   ]
  },
  {
   "cell_type": "code",
   "execution_count": 19,
   "metadata": {},
   "outputs": [
    {
     "data": {
      "text/plain": [
       "(['Sex', 'Embarked'], ['Cabin', 'Name', 'Ticket'])"
      ]
     },
     "execution_count": 19,
     "metadata": {},
     "output_type": "execute_result"
    }
   ],
   "source": [
    "cat_vars = [*set(cat_vars).difference(set(features_to_drop))]\n",
    "\n",
    "cat_vars, features_to_drop"
   ]
  },
  {
   "cell_type": "code",
   "execution_count": 20,
   "metadata": {},
   "outputs": [
    {
     "data": {
      "text/plain": [
       "(Embarked    0.0\n",
       " dtype: float64,\n",
       " Embarked    0.0\n",
       " dtype: float64)"
      ]
     },
     "execution_count": 20,
     "metadata": {},
     "output_type": "execute_result"
    }
   ],
   "source": [
    "# Replace the missing values in categorical variables\n",
    "cat_vars_wf_na = [\"Embarked\"]\n",
    "cat_imputer = CategoricalImputer(imputation_method=\"frequent\", variables=cat_vars_wf_na)\n",
    "X_train = cat_imputer.fit_transform(X_train)\n",
    "X_test = cat_imputer.transform(X_test)\n",
    "\n",
    "# Verify\n",
    "X_train[cat_vars_wf_na].isna().mean().mul(100), X_test[\n",
    "    cat_vars_wf_na\n",
    "].isna().mean().mul(100)"
   ]
  },
  {
   "cell_type": "code",
   "execution_count": 21,
   "metadata": {},
   "outputs": [
    {
     "name": "stdout",
     "output_type": "stream",
     "text": [
      "<class 'pandas.core.frame.DataFrame'>\n",
      "Int64Index: 801 entries, 677 to 510\n",
      "Data columns (total 5 columns):\n",
      " #   Column    Non-Null Count  Dtype \n",
      "---  ------    --------------  ----- \n",
      " 0   Sex       801 non-null    object\n",
      " 1   Embarked  801 non-null    object\n",
      " 2   Pclass    801 non-null    object\n",
      " 3   SibSp     801 non-null    object\n",
      " 4   Parch     801 non-null    object\n",
      "dtypes: object(5)\n",
      "memory usage: 37.5+ KB\n"
     ]
    },
    {
     "data": {
      "text/plain": [
       "['Sex', 'Embarked']"
      ]
     },
     "execution_count": 21,
     "metadata": {},
     "output_type": "execute_result"
    }
   ],
   "source": [
    "X_train[cat_vars + discrete_vars].info()\n",
    "\n",
    "cat_vars"
   ]
  },
  {
   "cell_type": "code",
   "execution_count": 22,
   "metadata": {},
   "outputs": [
    {
     "data": {
      "text/html": [
       "<div>\n",
       "<style scoped>\n",
       "    .dataframe tbody tr th:only-of-type {\n",
       "        vertical-align: middle;\n",
       "    }\n",
       "\n",
       "    .dataframe tbody tr th {\n",
       "        vertical-align: top;\n",
       "    }\n",
       "\n",
       "    .dataframe thead th {\n",
       "        text-align: right;\n",
       "    }\n",
       "</style>\n",
       "<table border=\"1\" class=\"dataframe\">\n",
       "  <thead>\n",
       "    <tr style=\"text-align: right;\">\n",
       "      <th></th>\n",
       "      <th>Age</th>\n",
       "      <th>Fare</th>\n",
       "      <th>PassengerId</th>\n",
       "      <th>Sex</th>\n",
       "      <th>Embarked</th>\n",
       "      <th>Pclass</th>\n",
       "      <th>SibSp</th>\n",
       "      <th>Parch</th>\n",
       "    </tr>\n",
       "  </thead>\n",
       "  <tbody>\n",
       "    <tr>\n",
       "      <th>677</th>\n",
       "      <td>11.675611</td>\n",
       "      <td>2.137198</td>\n",
       "      <td>154.591662</td>\n",
       "      <td>1</td>\n",
       "      <td>0</td>\n",
       "      <td>0</td>\n",
       "      <td>1</td>\n",
       "      <td>1</td>\n",
       "    </tr>\n",
       "    <tr>\n",
       "      <th>547</th>\n",
       "      <td>16.925884</td>\n",
       "      <td>2.386117</td>\n",
       "      <td>132.316212</td>\n",
       "      <td>0</td>\n",
       "      <td>2</td>\n",
       "      <td>1</td>\n",
       "      <td>1</td>\n",
       "      <td>1</td>\n",
       "    </tr>\n",
       "    <tr>\n",
       "      <th>317</th>\n",
       "      <td>28.678869</td>\n",
       "      <td>2.393275</td>\n",
       "      <td>88.808206</td>\n",
       "      <td>0</td>\n",
       "      <td>0</td>\n",
       "      <td>1</td>\n",
       "      <td>1</td>\n",
       "      <td>1</td>\n",
       "    </tr>\n",
       "  </tbody>\n",
       "</table>\n",
       "</div>"
      ],
      "text/plain": [
       "           Age      Fare  PassengerId  Sex  Embarked  Pclass  SibSp  Parch\n",
       "677  11.675611  2.137198   154.591662    1         0       0      1      1\n",
       "547  16.925884  2.386117   132.316212    0         2       1      1      1\n",
       "317  28.678869  2.393275    88.808206    0         0       1      1      1"
      ]
     },
     "execution_count": 22,
     "metadata": {},
     "output_type": "execute_result"
    }
   ],
   "source": [
    "# Encode Categorical Variables\n",
    "cat_enc = OrdinalEncoder(encoding_method=\"ordered\", variables=cat_vars + discrete_vars)\n",
    "X_train = cat_enc.fit_transform(X_train, y_train)\n",
    "X_test = cat_enc.transform(X_test)\n",
    "\n",
    "# Verify\n",
    "X_train[num_vars + cat_vars + discrete_vars].head(3)"
   ]
  },
  {
   "cell_type": "code",
   "execution_count": 28,
   "metadata": {},
   "outputs": [
    {
     "data": {
      "text/plain": [
       "(array([[ 0.88201627, -0.827746  ,  1.36408001, -0.8790148 , -0.28269331,\n",
       "         -0.46760989, -0.54926346, -0.58185434],\n",
       "        [ 0.44445804,  0.3712134 , -0.73309483, -0.05227827, -0.28269331,\n",
       "         -0.46760989, -0.21202015,  1.97894415],\n",
       "        [-0.41017275,  0.3712134 , -0.73309483,  1.7984107 , -0.28269331,\n",
       "         -0.46760989, -0.20232293, -0.58185434],\n",
       "        [-0.64157441, -0.827746  , -0.73309483, -2.32117745, -2.15407626,\n",
       "          0.9145138 ,  0.57948013, -0.58185434],\n",
       "        [-0.5909312 ,  1.5701728 , -0.73309483,  0.60496593, -0.28269331,\n",
       "          2.29663748,  0.52692599,  1.97894415]]),\n",
       " array([[-1.04023778, -0.827746  ,  1.36408001, -2.57224094,  1.58868965,\n",
       "          2.29663748, -0.42779082, -0.58185434],\n",
       "        [ 0.36421051, -0.827746  , -0.73309483, -0.05227827, -0.28269331,\n",
       "         -0.46760989, -0.85226245,  1.97894415],\n",
       "        [ 0.10645552,  1.5701728 , -0.73309483,  0.08215885, -0.28269331,\n",
       "         -0.46760989,  0.46211431,  1.97894415],\n",
       "        [-1.04976692,  1.5701728 , -0.73309483,  2.26601512, -0.28269331,\n",
       "         -0.46760989,  0.64120172, -0.58185434],\n",
       "        [ 0.69328794, -0.827746  , -0.73309483, -0.14934261,  1.58868965,\n",
       "         -0.46760989, -0.17096775,  1.97894415]]))"
      ]
     },
     "execution_count": 28,
     "metadata": {},
     "output_type": "execute_result"
    }
   ],
   "source": [
    "# Scale the  variables\n",
    "scaler = StandardScaler()\n",
    "X_train = scaler.fit_transform(X_train)\n",
    "X_test = scaler.transform(X_test)\n",
    "\n",
    "# Verify\n",
    "X_train[:5], X_test[:5]"
   ]
  },
  {
   "cell_type": "code",
   "execution_count": null,
   "metadata": {},
   "outputs": [],
   "source": []
  },
  {
   "cell_type": "code",
   "execution_count": null,
   "metadata": {},
   "outputs": [],
   "source": []
  },
  {
   "cell_type": "code",
   "execution_count": null,
   "metadata": {},
   "outputs": [],
   "source": []
  },
  {
   "cell_type": "code",
   "execution_count": null,
   "metadata": {},
   "outputs": [],
   "source": []
  },
  {
   "cell_type": "code",
   "execution_count": null,
   "metadata": {},
   "outputs": [],
   "source": []
  },
  {
   "cell_type": "code",
   "execution_count": null,
   "metadata": {},
   "outputs": [],
   "source": []
  },
  {
   "cell_type": "code",
   "execution_count": null,
   "metadata": {},
   "outputs": [],
   "source": []
  },
  {
   "cell_type": "code",
   "execution_count": null,
   "metadata": {},
   "outputs": [],
   "source": []
  },
  {
   "cell_type": "code",
   "execution_count": null,
   "metadata": {},
   "outputs": [],
   "source": []
  },
  {
   "cell_type": "code",
   "execution_count": null,
   "metadata": {},
   "outputs": [],
   "source": []
  },
  {
   "cell_type": "code",
   "execution_count": null,
   "metadata": {},
   "outputs": [],
   "source": []
  }
 ],
 "metadata": {
  "kernelspec": {
   "display_name": "Python 3",
   "language": "python",
   "name": "python3"
  },
  "language_info": {
   "codemirror_mode": {
    "name": "ipython",
    "version": 3
   },
   "file_extension": ".py",
   "mimetype": "text/x-python",
   "name": "python",
   "nbconvert_exporter": "python",
   "pygments_lexer": "ipython3",
   "version": "3.10.8"
  },
  "orig_nbformat": 4,
  "vscode": {
   "interpreter": {
    "hash": "aee8b7b246df8f9039afb4144a1f6fd8d2ca17a180786b69acc140d282b71a49"
   }
  }
 },
 "nbformat": 4,
 "nbformat_minor": 2
}
